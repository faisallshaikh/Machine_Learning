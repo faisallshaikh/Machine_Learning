{
 "cells": [
  {
   "cell_type": "markdown",
   "metadata": {},
   "source": [
    "* Given a signed 32-bit integer x, return x with its digits reversed. If reversing x causes the value to go outside the signed 32-bit integer range [-231, 231 - 1], then return 0.\n",
    "\n",
    "Example 1:\n",
    "\n",
    "Input: x = 123\n",
    "Output: 321\n",
    "\n",
    "Example 2:\n",
    "\n",
    "Input: x = -123\n",
    "Output: -321"
   ]
  },
  {
   "cell_type": "code",
   "execution_count": 18,
   "metadata": {},
   "outputs": [
    {
     "data": {
      "text/plain": [
       "-4321"
      ]
     },
     "execution_count": 18,
     "metadata": {},
     "output_type": "execute_result"
    }
   ],
   "source": [
    "def rev_int(s):\n",
    "    mul = -1 if s < 0 else 1\n",
    "    x = str(abs(s))\n",
    "    str_x = x[::-1]\n",
    "    int_x = int(str_x) * mul\n",
    "    return int_x if int_x < pow(2,31) else 0\n",
    "\n",
    "s = -1234\n",
    "\n",
    "rev_int(s)"
   ]
  },
  {
   "cell_type": "markdown",
   "metadata": {},
   "source": [
    "* The string \"PAYPALISHIRING\" is written in a zigzag pattern on a \n",
    "given number of rows like this: \n",
    "\n",
    "(you may want to display this pattern in a  fixed font for better legibility)\n",
    "\n",
    "P   A   H   N\n",
    "A P L S I I G\n",
    "Y   I   R\n",
    "\n",
    "And then read line by line: \"PAHNAPLSIIGYIR\""
   ]
  },
  {
   "cell_type": "code",
   "execution_count": 6,
   "metadata": {},
   "outputs": [
    {
     "name": "stdout",
     "output_type": "stream",
     "text": [
      "PaHnaPlsiigyIr\n"
     ]
    }
   ],
   "source": [
    "class Solution:\n",
    "    def convert(self, s: str, numRows: int) -> str:\n",
    "        if numRows == 1:\n",
    "            return s\n",
    "        answer = ''\n",
    "        n = len(s)\n",
    "        diff = 2 * (numRows - 1)\n",
    "        diagonal_diff = diff\n",
    "        second_index = 0\n",
    "        index = 0\n",
    "        for i in range(numRows):\n",
    "            index = i\n",
    "            while index < n:\n",
    "                answer += s[index]\n",
    "                if i != 0 and i != numRows - 1:\n",
    "                    diagonal_diff = diff - 2 * i\n",
    "                    second_index = index + diagonal_diff\n",
    "                    if second_index < n:\n",
    "                        answer += s[second_index]\n",
    "                index += diff\n",
    "        return answer\n",
    "    \n",
    "obj = Solution()\n",
    "print(obj.convert(\"PayPalIsHiring\", 3))"
   ]
  },
  {
   "cell_type": "code",
   "execution_count": 24,
   "metadata": {},
   "outputs": [
    {
     "name": "stdout",
     "output_type": "stream",
     "text": [
      "* * * * *  \n",
      "* * * *  \n",
      "* * *  \n",
      "* *  \n",
      "*  \n"
     ]
    }
   ],
   "source": [
    "rows = 5\n",
    "n = 5\n",
    "for i in range(rows):\n",
    "    print(\"* \" * n,end=\" \")\n",
    "    n = n - 1\n",
    "    print()\n",
    "\n"
   ]
  },
  {
   "cell_type": "code",
   "execution_count": 35,
   "metadata": {},
   "outputs": [
    {
     "name": "stdout",
     "output_type": "stream",
     "text": [
      "  * * * * *  \n",
      "   * * * *  \n",
      "    * * *  \n",
      "     * *  \n",
      "      *  \n"
     ]
    }
   ],
   "source": [
    "rows = 5\n",
    "n = rows\n",
    "b = 1\n",
    "for i in range(rows):\n",
    "    print(\" \"*b,\"* \" * n,end=\" \")\n",
    "    n = n - 1\n",
    "    b += 1\n",
    "    print()"
   ]
  },
  {
   "cell_type": "code",
   "execution_count": 37,
   "metadata": {},
   "outputs": [
    {
     "name": "stdout",
     "output_type": "stream",
     "text": [
      "  * * * * *  \n",
      "    * * * *  \n",
      "      * * *  \n",
      "        * *  \n",
      "          *  \n"
     ]
    }
   ],
   "source": [
    "rows = 5\n",
    "n = 5\n",
    "b = 1\n",
    "for i in range(rows):\n",
    "    print(\" \"*b,\"* \" * n,end=\" \")\n",
    "    n = n - 1\n",
    "    b+= 2\n",
    "    print()\n",
    "\n"
   ]
  }
 ],
 "metadata": {
  "kernelspec": {
   "display_name": "base",
   "language": "python",
   "name": "python3"
  },
  "language_info": {
   "codemirror_mode": {
    "name": "ipython",
    "version": 3
   },
   "file_extension": ".py",
   "mimetype": "text/x-python",
   "name": "python",
   "nbconvert_exporter": "python",
   "pygments_lexer": "ipython3",
   "version": "3.11.3"
  }
 },
 "nbformat": 4,
 "nbformat_minor": 2
}
